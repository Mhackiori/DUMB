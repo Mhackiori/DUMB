{
 "cells": [
  {
   "cell_type": "code",
   "execution_count": 1,
   "metadata": {},
   "outputs": [],
   "source": [
    "import os\n",
    "import sys\n",
    "sys.path.insert(0, os.getcwd()[:-5])\n",
    "\n",
    "import pandas as pd\n",
    "from PIL import Image\n",
    "import sys\n",
    "import torch\n",
    "from torch.utils.data import DataLoader\n",
    "from torchattacks import FGSM, DeepFool, BIM, RFGSM, PGD, Square, TIFGSM\n",
    "from torchmetrics import StructuralSimilarityIndexMeasure\n",
    "from torchvision import transforms\n",
    "\n",
    "from utils.balancedDataset import BalancedDataset\n",
    "from utils.const import *\n",
    "from utils.helperFunctions import *\n",
    "from utils.nonMathAttacks import NonMathAttacks"
   ]
  },
  {
   "cell_type": "code",
   "execution_count": 2,
   "metadata": {},
   "outputs": [],
   "source": [
    "ATTACK_NAME = 'FGSM'\n",
    "\n",
    "TASK = 'catDog'\n",
    "DATASET = 'bing'\n",
    "MODEL = 'alexnet'\n",
    "BALANCE = '20_80'\n",
    "\n",
    "IMAGE = 'cat_4049.jpg'\n",
    "\n",
    "epss = [0, 0.1, 0.2, 0.3]"
   ]
  },
  {
   "cell_type": "code",
   "execution_count": 3,
   "metadata": {},
   "outputs": [],
   "source": [
    "# Ranges and step for attack epsilon\n",
    "\n",
    "attacksParams = {\n",
    "    \"math\": {\n",
    "        \"BIM\": {\"init\": 0.01, \"steps\": 0.01, \"threshold\": 0.3},\n",
    "        \"DeepFool\": {\"init\": 10, \"steps\": 1, \"threshold\": 100},\n",
    "        \"FGSM\": {\"init\": 0.01, \"steps\": 0.01, \"threshold\": 0.3},\n",
    "        \"PGD\": {\"init\": 0.01, \"steps\": 0.01, \"threshold\": 0.3},\n",
    "        \"RFGSM\": {\"init\": 0.01, \"steps\": 0.01, \"threshold\": 0.3},\n",
    "        \"Square\": {\"init\": 0.1, \"steps\": 0.05, \"threshold\": 0.3},\n",
    "        \"TIFGSM\": {\"init\": 0.01, \"steps\": 0.01, \"threshold\": 0.3}\n",
    "    },\n",
    "    \"nonmath\": {\n",
    "        \"BoxBlur\": {\"init\": 0.5, \"steps\": 0.5, \"threshold\": 10},\n",
    "        \"GaussianNoise\": {\"init\": 0.005, \"steps\": 0.005, \"threshold\": 0.1},\n",
    "        \"GreyScale\": {\"init\": 1, \"steps\": 0, \"threshold\": 1},\n",
    "        \"InvertColor\": {\"init\": 1, \"steps\": 0, \"threshold\": 1},\n",
    "        \"RandomBlackBox\": {\"init\": 10, \"steps\": 10, \"threshold\": 200},\n",
    "        \"SaltPepper\": {\"init\": 0.005, \"steps\": 0.005, \"threshold\": 0.1},\n",
    "        \"SplitMergeRGB\": {\"init\": 1, \"steps\": 0, \"threshold\": 1}\n",
    "    }\n",
    "}\n",
    "\n",
    "nonMathAttacks = NonMathAttacks()\n"
   ]
  },
  {
   "attachments": {},
   "cell_type": "markdown",
   "metadata": {},
   "source": [
    "## Generating same image at different eps"
   ]
  },
  {
   "cell_type": "code",
   "execution_count": 4,
   "metadata": {},
   "outputs": [],
   "source": [
    "currentAttackParams = attacksParams[\"math\"][ATTACK_NAME]\n",
    "# datasetDir = os.path.join(DATASETS_DIR, DATASET)\n",
    "datasetDir = '../datasets/' + TASK + '/' + DATASET\n",
    "testDir = os.path.join(datasetDir, \"test\")\n",
    "\n",
    "toTensor = transforms.Compose([transforms.ToTensor()])\n",
    "toNormalizedTensor = transforms.Compose([\n",
    "    transforms.Resize(INPUT_SIZE),\n",
    "    transforms.ToTensor(),\n",
    "    transforms.Normalize(\n",
    "        NORMALIZATION_PARAMS[0], NORMALIZATION_PARAMS[1])\n",
    "])\n"
   ]
  },
  {
   "cell_type": "code",
   "execution_count": 5,
   "metadata": {},
   "outputs": [],
   "source": [
    "path = '../models/' + TASK + '/' + DATASET + '/' + MODEL + '/' + MODEL + '_' + BALANCE + '.pt'\n",
    "\n",
    "modelData = torch.load(path, map_location=torch.device('cpu'))\n",
    "\n",
    "modelDataset = modelData[\"dataset\"]\n",
    "modelName = modelData[\"model_name\"]\n",
    "\n",
    "torch.cuda.empty_cache()\n",
    "\n",
    "modelPercents = \"_\".join([str(x)\n",
    "                          for x in modelData[\"balance\"]])\n",
    "model = modelData[\"model\"].to(DEVICE)\n",
    "\n",
    "# Test dataset without normalization (for generating samples)\n",
    "originalTestDataset = BalancedDataset(\n",
    "    testDir, transform=toTensor, datasetSize=DATASET_SIZE, use_cache=False, check_images=False, with_path=True)\n",
    "\n",
    "setSeed()\n",
    "originalTestDataLoader = DataLoader(\n",
    "    originalTestDataset, batch_size=16, num_workers=0, shuffle=False)\n",
    "\n",
    "# Test dataset with normalization (for evaluation)\n",
    "testDataset = BalancedDataset(\n",
    "    testDir, transform=toNormalizedTensor, datasetSize=DATASET_SIZE, use_cache=False, check_images=False, with_path=True)\n",
    "\n",
    "setSeed()\n",
    "testDataLoader = DataLoader(\n",
    "    testDataset, batch_size=16, num_workers=0, shuffle=False)\n"
   ]
  },
  {
   "cell_type": "code",
   "execution_count": 6,
   "metadata": {},
   "outputs": [],
   "source": [
    "for eps in epss:\n",
    "    attacks = {\n",
    "        \"BIM\": BIM(model, eps=eps),\n",
    "        \"DeepFool\": DeepFool(model, overshoot=eps),\n",
    "        \"FGSM\": FGSM(model, eps=eps),\n",
    "        \"PGD\": PGD(model, eps=eps),\n",
    "        \"RFGSM\": RFGSM(model, eps=eps),\n",
    "        \"Square\": Square(model, eps=eps),\n",
    "        \"TIFGSM\": TIFGSM(model, eps=eps)\n",
    "    }\n",
    "    for attack in attacks:\n",
    "        if attack == ATTACK_NAME:\n",
    "            attacker = attacks[attack]\n",
    "\n",
    "            for images, labels, paths in originalTestDataLoader:\n",
    "                adversarials = attacker(images, labels)\n",
    "\n",
    "                for adversarial, label, fName in zip(adversarials, labels, paths):\n",
    "                    if os.path.basename(fName) == IMAGE:\n",
    "                        image = transforms.ToPILImage()(adversarial).convert(\"RGB\")\n",
    "\n",
    "                        imageName = os.path.basename(fName).split('.')[0] + '_' + str(eps) + '.jpg'\n",
    "                        savePath = './figures/images/'\n",
    "\n",
    "                        if not os.path.exists(savePath):\n",
    "                            os.makedirs(savePath)\n",
    "\n",
    "                        image.save(os.path.join(savePath, imageName), \"JPEG\")\n"
   ]
  },
  {
   "cell_type": "code",
   "execution_count": null,
   "metadata": {},
   "outputs": [],
   "source": []
  }
 ],
 "metadata": {
  "kernelspec": {
   "display_name": "Python 3",
   "language": "python",
   "name": "python3"
  },
  "language_info": {
   "codemirror_mode": {
    "name": "ipython",
    "version": 3
   },
   "file_extension": ".py",
   "mimetype": "text/x-python",
   "name": "python",
   "nbconvert_exporter": "python",
   "pygments_lexer": "ipython3",
   "version": "3.8.10"
  },
  "orig_nbformat": 4
 },
 "nbformat": 4,
 "nbformat_minor": 2
}
